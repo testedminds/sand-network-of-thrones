{
 "cells": [
  {
   "cell_type": "markdown",
   "metadata": {
    "deletable": true,
    "editable": true
   },
   "source": [
    "# Network of Thrones\n",
    "### The Weighted Edges of the Storm of Swords Network\n",
    "\n",
    "A. Beveridge and J. Shan, \"Network of Thrones,\" Math Horizons Magazine , Vol. 23, No. 4 (2016), pp. 18-22.\n",
    "https://www.macalester.edu/~abeverid/thrones.html\n",
    "\n",
    "Images courtesy of the Game of Thrones Wiki.\n",
    "\n",
    "Leverages SAND, py2cytoscape, and igraph to implement the following features:\n",
    "\n",
    "* An edge's thickness represents its weight.\n",
    "* The color of a vertex's border indicates its community.\n",
    "* The size of a vertex corresponds to its PageRank value.\n",
    "* The size of its label corresponds to its betweenness centrality.\n",
    "* Degree-sorted circle layout based on group membership, with saved and reloadable manual positions."
   ]
  },
  {
   "cell_type": "markdown",
   "metadata": {
    "deletable": true,
    "editable": true
   },
   "source": [
    "## Network Analysis"
   ]
  },
  {
   "cell_type": "code",
   "execution_count": 1,
   "metadata": {
    "collapsed": false,
    "deletable": true,
    "editable": true
   },
   "outputs": [
    {
     "data": {
      "application/javascript": [
       "if (window['cytoscape'] === undefined) {\n",
       "    var paths = {\n",
       "        cytoscape: 'http://cytoscape.github.io/cytoscape.js/api/cytoscape.js-latest/cytoscape.min'\n",
       "    };\n",
       "\n",
       "    require.config({\n",
       "        paths: paths\n",
       "    });\n",
       "\n",
       "    require(['cytoscape'], function (cytoscape) {\n",
       "        console.log('Loading Cytoscape.js Module...');\n",
       "        window['cytoscape'] = cytoscape;\n",
       "\n",
       "        var event = document.createEvent(\"HTMLEvents\");\n",
       "        event.initEvent(\"load_cytoscape\", true, false);\n",
       "        window.dispatchEvent(event);\n",
       "    });\n",
       "}"
      ],
      "text/plain": [
       "<IPython.core.display.Javascript object>"
      ]
     },
     "metadata": {},
     "output_type": "display_data"
    }
   ],
   "source": [
    "from py2cytoscape.data.cynetwork import CyNetwork\n",
    "from py2cytoscape.data.cyrest_client import CyRestClient\n",
    "from py2cytoscape.data.style import StyleUtil as su\n",
    "import py2cytoscape.util.cytoscapejs as cyjs\n",
    "import py2cytoscape.cytoscapejs as renderer\n",
    "\n",
    "from IPython.display import Image\n",
    "\n",
    "import igraph as igraph\n",
    "\n",
    "from sand.csv import csv_to_dicts\n",
    "import sand.graph as graph\n",
    "import sand.cytoscape.positions as scp\n",
    "import sand.cytoscape.app as app\n",
    "from sand.cytoscape.themes import ops, colors\n",
    "import sand.groups as groups"
   ]
  },
  {
   "cell_type": "code",
   "execution_count": 2,
   "metadata": {
    "collapsed": false,
    "deletable": true,
    "editable": true
   },
   "outputs": [],
   "source": [
    "vertex_data = csv_to_dicts('./data/storm_of_swords_vertices.csv')"
   ]
  },
  {
   "cell_type": "code",
   "execution_count": 3,
   "metadata": {
    "collapsed": true,
    "deletable": true,
    "editable": true
   },
   "outputs": [],
   "source": [
    "edge_data = csv_to_dicts('./data/storm_of_swords_edges.csv')"
   ]
  },
  {
   "cell_type": "code",
   "execution_count": 4,
   "metadata": {
    "collapsed": false,
    "deletable": true,
    "editable": true
   },
   "outputs": [
    {
     "data": {
      "text/plain": [
       "'IGRAPH UNW- 107 352 -- \\n+ attr: group (v), imageurl (v), indegree (v), label (v), name (v), outdegree (v), wiki (v), source_v (e), target_v (e), weight (e)'"
      ]
     },
     "execution_count": 4,
     "metadata": {},
     "output_type": "execute_result"
    }
   ],
   "source": [
    "g = graph.from_vertices_and_edges(\n",
    "                    vertices=vertex_data, \n",
    "                    edges=edge_data, \n",
    "                    vertex_name_key='name', \n",
    "                    vertex_id_key='name', \n",
    "                    edge_foreign_keys=('source_v', 'target_v'),\n",
    "                    directed=False)\n",
    "g.summary()"
   ]
  },
  {
   "cell_type": "code",
   "execution_count": 5,
   "metadata": {
    "collapsed": false,
    "deletable": true,
    "editable": true
   },
   "outputs": [],
   "source": [
    "# Ensure weight doesn't get added as a string\n",
    "g.es['weight'] = list(map(lambda x: int(x), g.es['weight']))"
   ]
  },
  {
   "cell_type": "markdown",
   "metadata": {
    "deletable": true,
    "editable": true
   },
   "source": [
    "### Community Detection / Clustering"
   ]
  },
  {
   "cell_type": "code",
   "execution_count": 6,
   "metadata": {
    "collapsed": false,
    "deletable": true,
    "editable": true
   },
   "outputs": [
    {
     "data": {
      "text/plain": [
       "4"
      ]
     },
     "execution_count": 6,
     "metadata": {},
     "output_type": "execute_result"
    }
   ],
   "source": [
    "# calculate dendrogram\n",
    "dendogram = g.community_edge_betweenness(directed=False, weights='weight')\n",
    "# convert it into a flat clustering\n",
    "clusters = dendogram.as_clustering()\n",
    "# get the membership vector\n",
    "eb_membership = clusters.membership\n",
    "len(set(eb_membership))"
   ]
  },
  {
   "cell_type": "markdown",
   "metadata": {
    "collapsed": false,
    "deletable": true,
    "editable": true
   },
   "source": [
    "The edge betweenness algorithm finds fewer than the seven communities reported by the authors. We can try a more computationally intensive method, but note this network is close to the size limit of when this algorithm would apply. Heuristic methods like spinglass will get similar results for this type of undirected network in a fraction of the time.\n",
    "\n",
    "https://en.wikipedia.org/wiki/Modularity_(networks)"
   ]
  },
  {
   "cell_type": "code",
   "execution_count": 7,
   "metadata": {
    "collapsed": true,
    "deletable": true,
    "editable": true
   },
   "outputs": [],
   "source": [
    "om_modules = g.community_optimal_modularity(weights='weight')"
   ]
  },
  {
   "cell_type": "code",
   "execution_count": 8,
   "metadata": {
    "collapsed": true,
    "deletable": true,
    "editable": true
   },
   "outputs": [],
   "source": [
    "om_membership = om_modules.membership"
   ]
  },
  {
   "cell_type": "code",
   "execution_count": 9,
   "metadata": {
    "collapsed": false,
    "deletable": true,
    "editable": true
   },
   "outputs": [
    {
     "data": {
      "text/plain": [
       "7"
      ]
     },
     "execution_count": 9,
     "metadata": {},
     "output_type": "execute_result"
    }
   ],
   "source": [
    "len(set(om_membership))"
   ]
  },
  {
   "cell_type": "code",
   "execution_count": 10,
   "metadata": {
    "collapsed": true,
    "deletable": true,
    "editable": true
   },
   "outputs": [],
   "source": [
    "# Represent groups as Strings to avoid a mapping bug in py2cytoscape.\n",
    "g.vs['group'] = list(map(lambda x: str(x), om_membership))"
   ]
  },
  {
   "cell_type": "markdown",
   "metadata": {
    "deletable": true,
    "editable": true
   },
   "source": [
    "### Centrality Metrics"
   ]
  },
  {
   "cell_type": "code",
   "execution_count": 11,
   "metadata": {
    "collapsed": true,
    "deletable": true,
    "editable": true
   },
   "outputs": [],
   "source": [
    "g.vs['pagerank'] = g.pagerank(directed=False, weights='weight')"
   ]
  },
  {
   "cell_type": "code",
   "execution_count": 12,
   "metadata": {
    "collapsed": true,
    "deletable": true,
    "editable": true
   },
   "outputs": [],
   "source": [
    "g.vs['betweenness'] = g.betweenness(directed=False, weights='weight')"
   ]
  },
  {
   "cell_type": "markdown",
   "metadata": {
    "deletable": true,
    "editable": true
   },
   "source": [
    "## Visualize the network in Cytoscape"
   ]
  },
  {
   "cell_type": "code",
   "execution_count": 13,
   "metadata": {
    "collapsed": false,
    "deletable": true,
    "editable": true
   },
   "outputs": [
    {
     "name": "stdout",
     "output_type": "stream",
     "text": [
      "{\n",
      "  \"apiVersion\": \"v1\",\n",
      "  \"cytoscapeVersion\": \"3.4.0\"\n",
      "}\n"
     ]
    }
   ],
   "source": [
    "app.print_version()"
   ]
  },
  {
   "cell_type": "code",
   "execution_count": 14,
   "metadata": {
    "collapsed": true,
    "deletable": true,
    "editable": true
   },
   "outputs": [],
   "source": [
    "cy = CyRestClient()\n",
    "cy.session.delete()"
   ]
  },
  {
   "cell_type": "code",
   "execution_count": 15,
   "metadata": {
    "collapsed": false,
    "deletable": true,
    "editable": true
   },
   "outputs": [],
   "source": [
    "network = cy.network.create_from_igraph(g, name='storm of swords', collection='got')"
   ]
  },
  {
   "cell_type": "markdown",
   "metadata": {
    "deletable": true,
    "editable": true
   },
   "source": [
    "## Customize the style"
   ]
  },
  {
   "cell_type": "code",
   "execution_count": 16,
   "metadata": {
    "collapsed": false,
    "deletable": true,
    "editable": true
   },
   "outputs": [],
   "source": [
    "from sand.cytoscape.themes import colors as c\n",
    "from sand.cytoscape.themes import label_positions as p\n",
    "\n",
    "settings = {\n",
    "    # node style\n",
    "    'NODE_TRANSPARENCY': 255,\n",
    "    'NODE_SIZE': 25,\n",
    "    'NODE_BORDER_WIDTH': 4,\n",
    "    'NODE_BORDER_PAINT': '#FFCC66',\n",
    "    'NODE_FILL_COLOR': c.DARK_GREEN,\n",
    "    'NODE_SELECTED_PAINT': c.BRIGHT_YELLOW,\n",
    "    'NODE_SHAPE': 'RECTANGLE',\n",
    "\n",
    "    # node label style\n",
    "    'NODE_LABEL_COLOR': c.BRIGHT_GRAY,\n",
    "    'NODE_LABEL_FONT_SIZE': 16,\n",
    "    'NODE_LABEL_POSITION': p.LOWER_RIGHT,\n",
    "\n",
    "    # edge style\n",
    "    'EDGE_TRANSPARENCY': 255,\n",
    "    'EDGE_WIDTH': 2.5,\n",
    "    'EDGE_LINE_TYPE': 'SOLID',\n",
    "    'EDGE_STROKE_SELECTED_PAINT': c.BRIGHT_YELLOW,\n",
    "    'EDGE_STROKE_UNSELECTED_PAINT': c.BRIGHT_GRAY,\n",
    "    'EDGE_TARGET_ARROW_UNSELECTED_PAINT': c.BRIGHT_GRAY,\n",
    "\n",
    "    # network style\n",
    "    'NETWORK_BACKGROUND_PAINT': c.DARK_GRAY\n",
    "}\n",
    "\n",
    "style = cy.style.create('GoT')\n",
    "style.update_defaults(settings)"
   ]
  },
  {
   "cell_type": "code",
   "execution_count": 17,
   "metadata": {
    "collapsed": true,
    "deletable": true,
    "editable": true
   },
   "outputs": [],
   "source": [
    "# Map the label property in the igraph data to Cytoscape's NODE_LABEL visual property\n",
    "style.create_passthrough_mapping(column='label', vp='NODE_LABEL', col_type='String')"
   ]
  },
  {
   "cell_type": "code",
   "execution_count": 18,
   "metadata": {
    "collapsed": true,
    "deletable": true,
    "editable": true
   },
   "outputs": [],
   "source": [
    "# Add icons to vertices\n",
    "style.create_passthrough_mapping(column='imageurl', vp='NODE_CUSTOMGRAPHICS_1', col_type='String')"
   ]
  },
  {
   "cell_type": "code",
   "execution_count": 19,
   "metadata": {
    "collapsed": true,
    "deletable": true,
    "editable": true
   },
   "outputs": [],
   "source": [
    "# scale edges by weight\n",
    "weight_to_width = su.create_slope(min=min(g.es['weight']), max=max(g.es['weight']), values=(1, 10))\n",
    "style.create_continuous_mapping(column='weight', vp='EDGE_WIDTH', col_type='Double', points=weight_to_width)"
   ]
  },
  {
   "cell_type": "code",
   "execution_count": 20,
   "metadata": {
    "collapsed": true,
    "deletable": true,
    "editable": true
   },
   "outputs": [],
   "source": [
    "# scale vertex size according to PageRank value.\n",
    "pr_to_size = su.create_slope(min=min(g.vs['pagerank']), max=max(g.vs['pagerank']), values=(25, 125))\n",
    "style.create_continuous_mapping(column='pagerank', vp='NODE_SIZE', col_type='Double', points=pr_to_size)"
   ]
  },
  {
   "cell_type": "code",
   "execution_count": 21,
   "metadata": {
    "collapsed": true,
    "deletable": true,
    "editable": true
   },
   "outputs": [],
   "source": [
    "# The size of its label corresponds to its betweenness centrality.\n",
    "bc_to_size = su.create_slope(min=min(g.vs['betweenness']), max=max(g.vs['betweenness']), values=(14, 32))\n",
    "style.create_continuous_mapping(column='betweenness', col_type='Double', vp='NODE_LABEL_FONT_SIZE', points=bc_to_size)"
   ]
  },
  {
   "cell_type": "code",
   "execution_count": 22,
   "metadata": {
    "collapsed": true,
    "deletable": true,
    "editable": true
   },
   "outputs": [],
   "source": [
    "# Give each group a unique border color using the number of groups determined above.\n",
    "border_colors = {\n",
    "  '0': colors.BRIGHT_YELLOW,\n",
    "  '1': colors.BRIGHT_RED,\n",
    "  '2': colors.BRIGHT_BLUE,\n",
    "  '3': colors.BRIGHT_GREEN,\n",
    "  '4': colors.BRIGHT_ORANGE,\n",
    "  '5': colors.BRIGHT_PURPLE,\n",
    "  '6': colors.BRIGHT_WHITE\n",
    "}\n",
    "\n",
    "style.create_discrete_mapping(column='group', col_type='String', vp='NODE_BORDER_PAINT', mappings=border_colors)"
   ]
  },
  {
   "cell_type": "code",
   "execution_count": 23,
   "metadata": {
    "collapsed": true,
    "deletable": true,
    "editable": true
   },
   "outputs": [],
   "source": [
    "cy.style.apply(style, network)"
   ]
  },
  {
   "cell_type": "code",
   "execution_count": 24,
   "metadata": {
    "collapsed": true,
    "deletable": true,
    "editable": true
   },
   "outputs": [],
   "source": [
    "# Apply layout\n",
    "cy.layout.apply(name='kamada-kawai', network=network)\n",
    "cy.layout.fit(network)"
   ]
  },
  {
   "cell_type": "code",
   "execution_count": 25,
   "metadata": {
    "collapsed": true,
    "deletable": true,
    "editable": true
   },
   "outputs": [],
   "source": [
    "# Load previous positions\n",
    "positions_file = './data/storm_of_swords_positions.csv'\n",
    "scp.layout_from_positions_csv(network, positions_file, cy)\n",
    "cy.layout.fit(network)"
   ]
  },
  {
   "cell_type": "markdown",
   "metadata": {
    "deletable": true,
    "editable": true
   },
   "source": [
    "### Save the positions of the vertices to support later updates"
   ]
  },
  {
   "cell_type": "code",
   "execution_count": 26,
   "metadata": {
    "collapsed": true,
    "deletable": true,
    "editable": true
   },
   "outputs": [],
   "source": [
    "scp.positions_to_csv(network=network, path=positions_file)"
   ]
  },
  {
   "cell_type": "markdown",
   "metadata": {
    "deletable": true,
    "editable": true
   },
   "source": [
    "### Export the view for use in cytoscape.js based visualizations"
   ]
  },
  {
   "cell_type": "code",
   "execution_count": 30,
   "metadata": {
    "collapsed": false,
    "deletable": true,
    "editable": true
   },
   "outputs": [],
   "source": [
    "import json\n",
    "\n",
    "net_view = network.get_first_view()\n",
    "with open('./output/storm_of_swords.json', 'w') as out:\n",
    "    json.dump(net_view, out, indent=2)"
   ]
  },
  {
   "cell_type": "code",
   "execution_count": 31,
   "metadata": {
    "collapsed": true,
    "deletable": true,
    "editable": true
   },
   "outputs": [],
   "source": [
    "style_for_js = cy.style.get(style.get_name(), data_format='cytoscapejs')\n",
    "with open('./output/got.style.json', 'w') as out:\n",
    "    json.dump(style_for_js, out, indent=2)"
   ]
  }
 ],
 "metadata": {
  "kernelspec": {
   "display_name": "Python 3",
   "language": "python",
   "name": "python3"
  },
  "language_info": {
   "codemirror_mode": {
    "name": "ipython",
    "version": 3
   },
   "file_extension": ".py",
   "mimetype": "text/x-python",
   "name": "python",
   "nbconvert_exporter": "python",
   "pygments_lexer": "ipython3",
   "version": "3.6.1"
  }
 },
 "nbformat": 4,
 "nbformat_minor": 2
}
